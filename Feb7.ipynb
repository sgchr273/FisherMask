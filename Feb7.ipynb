{
 "cells": [
  {
   "cell_type": "code",
   "execution_count": 1,
   "metadata": {},
   "outputs": [
    {
     "name": "stderr",
     "output_type": "stream",
     "text": [
      "/usr/local/home/sgchr/anaconda3/envs/pyt/lib/python3.8/site-packages/torchvision/io/image.py:13: UserWarning: Failed to load image Python extension: /usr/local/home/sgchr/anaconda3/envs/pyt/lib/python3.8/site-packages/torchvision/image.so: undefined symbol: _ZN5torch3jit17parseSchemaOrNameERKNSt7__cxx1112basic_stringIcSt11char_traitsIcESaIcEEE\n",
      "  warn(f\"Failed to load image Python extension: {e}\")\n"
     ]
    }
   ],
   "source": [
    "import os\n",
    "import torch\n",
    "from torch.utils.data import DataLoader\n",
    "from torch.autograd import Variable\n",
    "import numpy as np\n",
    "import torch.nn.functional as F\n",
    "from torchvision import datasets\n",
    "from torch.utils.data import Dataset\n",
    "from torchvision import transforms\n",
    "import resnet\n",
    "import torch.nn as nn\n",
    "import torch.nn.functional as F\n",
    "from scipy import stats\n",
    "import gc\n",
    "import time"
   ]
  },
  {
   "cell_type": "code",
   "execution_count": 10,
   "metadata": {},
   "outputs": [],
   "source": [
    "import os\n",
    "os.getcwd()\n",
    "import pickle"
   ]
  },
  {
   "cell_type": "code",
   "execution_count": 12,
   "metadata": {},
   "outputs": [
    {
     "name": "stdout",
     "output_type": "stream",
     "text": [
      "{'FISH': [], 'BAIT': [0.1]}\n"
     ]
    }
   ],
   "source": [
    "with open('/usr/local/home/sgchr/Documents/active-nn/defaultsavefilename.p','rb' ) as f:\n",
    "    imp_wt_idxs = pickle.load(f)\n",
    "print(imp_wt_idxs)"
   ]
  },
  {
   "cell_type": "code",
   "execution_count": null,
   "metadata": {},
   "outputs": [],
   "source": []
  },
  {
   "cell_type": "code",
   "execution_count": null,
   "metadata": {},
   "outputs": [],
   "source": []
  },
  {
   "cell_type": "code",
   "execution_count": 2,
   "metadata": {},
   "outputs": [
    {
     "name": "stdout",
     "output_type": "stream",
     "text": [
      "Files already downloaded and verified\n",
      "Files already downloaded and verified\n"
     ]
    }
   ],
   "source": [
    "data_tr = datasets.CIFAR10('data'+ '/CIFAR10', train=True, download=True)\n",
    "data_te = datasets.CIFAR10('data' + '/CIFAR10', train=False, download=True)\n",
    "X_tr = data_tr.data\n",
    "Y_tr = torch.from_numpy(np.array(data_tr.targets))\n",
    "X_te = data_te.data\n",
    "Y_te = torch.from_numpy(np.array(data_te.targets))"
   ]
  },
  {
   "cell_type": "code",
   "execution_count": 3,
   "metadata": {},
   "outputs": [],
   "source": [
    "num_imp_per_layer = 7000\n",
    "xt = np.zeros((len(Y_tr), len(np.unique(Y_tr)), num_imp_per_layer))"
   ]
  },
  {
   "cell_type": "code",
   "execution_count": 4,
   "metadata": {},
   "outputs": [],
   "source": [
    "fisher = torch.zeros(xt.shape[-1], xt.shape[-1],dtype=torch.double).cuda()\n",
    "iterates = torch.zeros(xt.shape[-1], xt.shape[-1], dtype=torch.double)"
   ]
  },
  {
   "cell_type": "code",
   "execution_count": 7,
   "metadata": {},
   "outputs": [],
   "source": [
    "n_pool = len(Y_tr)\n",
    "idxs_lb = np.zeros(n_pool, dtype=bool)\n",
    "idxs_unlabeled = np.arange(n_pool)[~idxs_lb]"
   ]
  },
  {
   "cell_type": "code",
   "execution_count": 8,
   "metadata": {},
   "outputs": [
    {
     "ename": "KeyboardInterrupt",
     "evalue": "",
     "output_type": "error",
     "traceback": [
      "\u001b[0;31m---------------------------------------------------------------------------\u001b[0m",
      "\u001b[0;31mKeyboardInterrupt\u001b[0m                         Traceback (most recent call last)",
      "\u001b[1;32m/usr/local/home/sgchr/Documents/active-nn/Feb7.ipynb Cell 6\u001b[0m in \u001b[0;36m1\n\u001b[0;32m----> <a href='vscode-notebook-cell://ssh-remote%2Br11ast8hv.managed.mst.edu/usr/local/home/sgchr/Documents/active-nn/Feb7.ipynb#X11sdnNjb2RlLXJlbW90ZQ%3D%3D?line=0'>1</a>\u001b[0m chosen \u001b[39m=\u001b[39m select(xt[idxs_unlabeled], \u001b[39m1000\u001b[39;49m, fisher, iterates, lamb \u001b[39m=\u001b[39;49m \u001b[39m1\u001b[39;49m, backwardSteps \u001b[39m=\u001b[39;49m \u001b[39m0\u001b[39;49m, nLabeled\u001b[39m=\u001b[39;49mnp\u001b[39m.\u001b[39;49msum(idxs_lb))\n",
      "\u001b[1;32m/usr/local/home/sgchr/Documents/active-nn/Feb7.ipynb Cell 6\u001b[0m in \u001b[0;36m7\n\u001b[1;32m     <a href='vscode-notebook-cell://ssh-remote%2Br11ast8hv.managed.mst.edu/usr/local/home/sgchr/Documents/active-nn/Feb7.ipynb#X11sdnNjb2RlLXJlbW90ZQ%3D%3D?line=70'>71</a>\u001b[0m     innerInv \u001b[39m=\u001b[39m torch\u001b[39m.\u001b[39minverse(torch\u001b[39m.\u001b[39meye(rank)\u001b[39m.\u001b[39mcuda() \u001b[39m+\u001b[39m xt_chunk \u001b[39m@\u001b[39m currentInv \u001b[39m@\u001b[39m xt_chunk\u001b[39m.\u001b[39mtranspose(\u001b[39m1\u001b[39m, \u001b[39m2\u001b[39m))\n\u001b[1;32m     <a href='vscode-notebook-cell://ssh-remote%2Br11ast8hv.managed.mst.edu/usr/local/home/sgchr/Documents/active-nn/Feb7.ipynb#X11sdnNjb2RlLXJlbW90ZQ%3D%3D?line=71'>72</a>\u001b[0m     innerInv[torch\u001b[39m.\u001b[39mwhere(torch\u001b[39m.\u001b[39misinf(innerInv))] \u001b[39m=\u001b[39m torch\u001b[39m.\u001b[39msign(innerInv[torch\u001b[39m.\u001b[39mwhere(torch\u001b[39m.\u001b[39misinf(innerInv))]) \u001b[39m*\u001b[39m np\u001b[39m.\u001b[39mfinfo(\u001b[39m'\u001b[39m\u001b[39mfloat32\u001b[39m\u001b[39m'\u001b[39m)\u001b[39m.\u001b[39mmax\n\u001b[0;32m---> <a href='vscode-notebook-cell://ssh-remote%2Br11ast8hv.managed.mst.edu/usr/local/home/sgchr/Documents/active-nn/Feb7.ipynb#X11sdnNjb2RlLXJlbW90ZQ%3D%3D?line=72'>73</a>\u001b[0m     traceEst[c_idx \u001b[39m*\u001b[39m chunkSize : (c_idx \u001b[39m+\u001b[39m \u001b[39m1\u001b[39m) \u001b[39m*\u001b[39m chunkSize] \u001b[39m=\u001b[39m torch\u001b[39m.\u001b[39;49mdiagonal(\n\u001b[1;32m     <a href='vscode-notebook-cell://ssh-remote%2Br11ast8hv.managed.mst.edu/usr/local/home/sgchr/Documents/active-nn/Feb7.ipynb#X11sdnNjb2RlLXJlbW90ZQ%3D%3D?line=73'>74</a>\u001b[0m         xt_chunk \u001b[39m@\u001b[39;49m currentInv \u001b[39m@\u001b[39;49m fisher \u001b[39m@\u001b[39;49m currentInv \u001b[39m@\u001b[39;49m xt_chunk\u001b[39m.\u001b[39;49mtranspose(\u001b[39m1\u001b[39;49m, \u001b[39m2\u001b[39;49m) \u001b[39m@\u001b[39;49m innerInv, \n\u001b[1;32m     <a href='vscode-notebook-cell://ssh-remote%2Br11ast8hv.managed.mst.edu/usr/local/home/sgchr/Documents/active-nn/Feb7.ipynb#X11sdnNjb2RlLXJlbW90ZQ%3D%3D?line=74'>75</a>\u001b[0m         dim1\u001b[39m=\u001b[39;49m\u001b[39m-\u001b[39;49m\u001b[39m2\u001b[39;49m, \n\u001b[1;32m     <a href='vscode-notebook-cell://ssh-remote%2Br11ast8hv.managed.mst.edu/usr/local/home/sgchr/Documents/active-nn/Feb7.ipynb#X11sdnNjb2RlLXJlbW90ZQ%3D%3D?line=75'>76</a>\u001b[0m         dim2\u001b[39m=\u001b[39;49m\u001b[39m-\u001b[39;49m\u001b[39m1\u001b[39;49m\n\u001b[1;32m     <a href='vscode-notebook-cell://ssh-remote%2Br11ast8hv.managed.mst.edu/usr/local/home/sgchr/Documents/active-nn/Feb7.ipynb#X11sdnNjb2RlLXJlbW90ZQ%3D%3D?line=76'>77</a>\u001b[0m     )\u001b[39m.\u001b[39;49msum(\u001b[39m-\u001b[39;49m\u001b[39m1\u001b[39;49m)\u001b[39m.\u001b[39;49mdetach()\u001b[39m.\u001b[39;49mcpu()\n\u001b[1;32m     <a href='vscode-notebook-cell://ssh-remote%2Br11ast8hv.managed.mst.edu/usr/local/home/sgchr/Documents/active-nn/Feb7.ipynb#X11sdnNjb2RlLXJlbW90ZQ%3D%3D?line=77'>78</a>\u001b[0m time_for_inner_loop_end \u001b[39m=\u001b[39m time\u001b[39m.\u001b[39mtime()\n\u001b[1;32m     <a href='vscode-notebook-cell://ssh-remote%2Br11ast8hv.managed.mst.edu/usr/local/home/sgchr/Documents/active-nn/Feb7.ipynb#X11sdnNjb2RlLXJlbW90ZQ%3D%3D?line=78'>79</a>\u001b[0m \u001b[39m#print('inner loop time: ', time_for_inner_loop_end-time_for_inner_loop)\u001b[39;00m\n",
      "\u001b[0;31mKeyboardInterrupt\u001b[0m: "
     ]
    }
   ],
   "source": [
    "chosen = select(xt[idxs_unlabeled], 1000, fisher, iterates, lamb = 1, backwardSteps = 0, nLabeled=np.sum(idxs_lb))"
   ]
  },
  {
   "cell_type": "code",
   "execution_count": null,
   "metadata": {},
   "outputs": [],
   "source": [
    "class DataHandler3(Dataset):\n",
    "    def __init__(self, X, Y, transform= None):\n",
    "        self.X = X\n",
    "        self.Y = Y\n",
    "        self.transform = transform\n",
    "\n",
    "    def __getitem__(self, index):\n",
    "        x, y = self.X[index], self.Y[index]\n",
    "        if self.transform is not None:\n",
    "            x = Image.fromarray(x)\n",
    "            x = self.transform(x)\n",
    "        return x, y, index\n",
    "    def __len__(self):\n",
    "        return len(self.Y)"
   ]
  },
  {
   "cell_type": "code",
   "execution_count": null,
   "metadata": {},
   "outputs": [],
   "source": [
    "def get_handler(name):\n",
    "    if name == 'CIFAR10':\n",
    "        return DataHandler3"
   ]
  },
  {
   "cell_type": "code",
   "execution_count": null,
   "metadata": {},
   "outputs": [],
   "source": [
    "handler = get_handler('CIFAR10')"
   ]
  },
  {
   "cell_type": "code",
   "execution_count": null,
   "metadata": {},
   "outputs": [],
   "source": [
    "print(type(get_handler))"
   ]
  },
  {
   "cell_type": "code",
   "execution_count": null,
   "metadata": {},
   "outputs": [],
   "source": [
    "args={'n_epoch': 3, 'transform': transforms.Compose([ \n",
    "                     transforms.RandomCrop(32, padding=4),\n",
    "                     transforms.RandomHorizontalFlip(),\n",
    "                     transforms.ToTensor(),\n",
    "                     transforms.Normalize((0.4914, 0.4822, 0.4465), (0.2470, 0.2435, 0.2616))\n",
    "                 ]),\n",
    "                 'loader_tr_args':{'batch_size': 128, 'num_workers': 1},\n",
    "                 'loader_te_args':{'batch_size': 1000, 'num_workers': 1}, # change back to 1000\n",
    "                 'optimizer_args':{'lr': 0.05, 'momentum': 0.3},\n",
    "                 'transformTest': transforms.Compose([transforms.ToTensor(), transforms.Normalize((0.4914, 0.4822, 0.4465), (0.2470, 0.2435, 0.2616))])}"
   ]
  },
  {
   "cell_type": "code",
   "execution_count": null,
   "metadata": {},
   "outputs": [],
   "source": [
    "def predict_prob(X, Y, model, exp=True):\n",
    "    # if type(model) == list: model = clf\n",
    "\n",
    "    # loader_te = DataLoader(handler(X, Y, transform=args['transformTest']), shuffle=False, **args['loader_te_args'])\n",
    "    # print(type(loader_te))\n",
    "    loader_te = DataLoader(X_tr, batch_size = 100, shuffle = False)\n",
    "    model = model.eval()\n",
    "    probs = torch.zeros([len(Y), len(np.unique(Y))])\n",
    "    with torch.no_grad():\n",
    "        for idx, x in enumerate(loader_te):\n",
    "            x = Variable(x.cuda())\n",
    "            out, e1 = model(x)\n",
    "            if exp: out = F.softmax(out, dim=1)\n",
    "            probs[idx] = out.cpu().data\n",
    "            # probs = out.cpu().data\n",
    "    \n",
    "    return probs"
   ]
  },
  {
   "cell_type": "code",
   "execution_count": null,
   "metadata": {},
   "outputs": [],
   "source": [
    "innerInv = torch.tensor(())"
   ]
  },
  {
   "cell_type": "code",
   "execution_count": null,
   "metadata": {},
   "outputs": [],
   "source": [
    "X_tr[:100].shape[0]"
   ]
  },
  {
   "cell_type": "code",
   "execution_count": null,
   "metadata": {},
   "outputs": [],
   "source": [
    "loader_te = DataLoader(X_tr, batch_size = 100, shuffle = False)\n",
    "for idx,x in enumerate(loader_te):\n",
    "    print(x.shape)"
   ]
  },
  {
   "cell_type": "code",
   "execution_count": null,
   "metadata": {},
   "outputs": [],
   "source": [
    "model = resnet.ResNet18()"
   ]
  },
  {
   "cell_type": "code",
   "execution_count": null,
   "metadata": {},
   "outputs": [],
   "source": [
    "phat = predict_prob(X_tr[idxs_unlabeled], Y_tr[idxs_unlabeled],model)"
   ]
  },
  {
   "cell_type": "code",
   "execution_count": null,
   "metadata": {},
   "outputs": [],
   "source": [
    "print('all probs: ' + \n",
    "                str(str(torch.mean(torch.max(phat, 1)[0]).item())) + ' ' + \n",
    "                str(str(torch.mean(torch.min(phat, 1)[0]).item())) + ' ' + \n",
    "                str(str(torch.mean(torch.std(phat,1)).item())), flush=True)"
   ]
  },
  {
   "cell_type": "code",
   "execution_count": 1,
   "metadata": {},
   "outputs": [
    {
     "name": "stdout",
     "output_type": "stream",
     "text": [
      "{'FISH': [0.0999], 'BAIT': [0.1002, 0.1005]}\n"
     ]
    }
   ],
   "source": [
    "import pickle\n",
    "savefile = open(\"defaultsavefilename.p\", \"br\")\n",
    "save = pickle.load(savefile)\n",
    "acc_dict = save\n",
    "print(acc_dict)"
   ]
  }
 ],
 "metadata": {
  "kernelspec": {
   "display_name": "pyt",
   "language": "python",
   "name": "python3"
  },
  "language_info": {
   "codemirror_mode": {
    "name": "ipython",
    "version": 3
   },
   "file_extension": ".py",
   "mimetype": "text/x-python",
   "name": "python",
   "nbconvert_exporter": "python",
   "pygments_lexer": "ipython3",
   "version": "3.8.15"
  },
  "orig_nbformat": 4,
  "vscode": {
   "interpreter": {
    "hash": "4cafaace53dbfa2f2f80725cf8b8a707efc1de97ef1c6af3883bc118682f6610"
   }
  }
 },
 "nbformat": 4,
 "nbformat_minor": 2
}
