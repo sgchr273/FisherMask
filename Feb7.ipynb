{
 "cells": [
  {
   "cell_type": "code",
   "execution_count": 1,
   "metadata": {},
   "outputs": [
    {
     "name": "stderr",
     "output_type": "stream",
     "text": [
      "/usr/local/home/sgchr/anaconda3/envs/pyt/lib/python3.8/site-packages/torchvision/io/image.py:13: UserWarning: Failed to load image Python extension: /usr/local/home/sgchr/anaconda3/envs/pyt/lib/python3.8/site-packages/torchvision/image.so: undefined symbol: _ZN5torch3jit17parseSchemaOrNameERKNSt7__cxx1112basic_stringIcSt11char_traitsIcESaIcEEE\n",
      "  warn(f\"Failed to load image Python extension: {e}\")\n"
     ]
    }
   ],
   "source": [
    "import os\n",
    "import torch\n",
    "from torch.utils.data import DataLoader\n",
    "from torch.autograd import Variable\n",
    "import numpy as np\n",
    "import torch.nn.functional as F\n",
    "from torchvision import datasets\n",
    "from torch.utils.data import Dataset\n",
    "from torchvision import transforms\n",
    "import resnet\n",
    "import torch.nn as nn\n",
    "import torch.nn.functional as F\n",
    "from scipy import stats\n",
    "import gc\n",
    "import time"
   ]
  },
  {
   "cell_type": "code",
   "execution_count": 2,
   "metadata": {},
   "outputs": [
    {
     "name": "stdout",
     "output_type": "stream",
     "text": [
      "Files already downloaded and verified\n",
      "Files already downloaded and verified\n"
     ]
    }
   ],
   "source": [
    "data_tr = datasets.CIFAR10('data'+ '/CIFAR10', train=True, download=True)\n",
    "data_te = datasets.CIFAR10('data' + '/CIFAR10', train=False, download=True)\n",
    "X_tr = data_tr.data\n",
    "Y_tr = torch.from_numpy(np.array(data_tr.targets))\n",
    "X_te = data_te.data\n",
    "Y_te = torch.from_numpy(np.array(data_te.targets))"
   ]
  },
  {
   "cell_type": "code",
   "execution_count": 3,
   "metadata": {},
   "outputs": [],
   "source": [
    "num_imp_per_layer = 14000\n",
    "xt = np.zeros((len(Y_tr), len(np.unique(Y_tr)), num_imp_per_layer))"
   ]
  },
  {
   "cell_type": "code",
   "execution_count": 4,
   "metadata": {},
   "outputs": [],
   "source": [
    "fisher = torch.zeros(xt.shape[-1], xt.shape[-1],dtype=torch.double).cuda()\n",
    "iterates = torch.zeros(xt.shape[-1], xt.shape[-1], dtype=torch.double)"
   ]
  },
  {
   "cell_type": "code",
   "execution_count": 1,
   "metadata": {},
   "outputs": [],
   "source": [
    "def printProgressBar (iteration, total, prefix = '', suffix = '', decimals = 1, length = 100, fill = '█', printEnd = \"\\r\"):\n",
    "    \"\"\"\n",
    "    Call in a loop to create terminal progress bar\n",
    "    @params:\n",
    "        iteration   - Required  : current iteration (Int)\n",
    "        total       - Required  : total iterations (Int)\n",
    "        prefix      - Optional  : prefix string (Str)\n",
    "        suffix      - Optional  : suffix string (Str)\n",
    "        decimals    - Optional  : positive number of decimals in percent complete (Int)\n",
    "        length      - Optional  : character length of bar (Int)\n",
    "        fill        - Optional  : bar fill character (Str)\n",
    "        printEnd    - Optional  : end character (e.g. \"\\r\", \"\\r\\n\") (Str)\n",
    "    \"\"\"\n",
    "    percent = (\"{0:.\" + str(decimals) + \"f}\").format(100 * (iteration / float(total)))\n",
    "    filledLength = int(length * iteration // total)\n",
    "    bar = fill * filledLength + '-' * (length - filledLength)\n",
    "    print(f'\\r{prefix} |{bar}| {percent}% {suffix}', end = printEnd)\n",
    "    # Print New Line on Complete\n",
    "    if iteration == total: \n",
    "        print()"
   ]
  },
  {
   "cell_type": "code",
   "execution_count": 6,
   "metadata": {},
   "outputs": [
    {
     "name": "stdout",
     "output_type": "stream",
     "text": [
      "test\n",
      "Progress2: |██████████████████████████████████████████████████| 100.0% Complete\n",
      "Progress2: |██████████████████████████████████████████████████| 100.0% Complete\n",
      "Progress2: |██████████████████████████████████████████████████| 100.0% Complete\n",
      "Progress1: |██████████████████████████████████████████████████| 100.0% Complete\n"
     ]
    }
   ],
   "source": [
    "import time\n",
    "\n",
    "# A List of Items\n",
    "items = list(range(0, 3))\n",
    "l = len(items)\n",
    "\n",
    "# Initial call to print 0% progress\n",
    "print(\"test\")\n",
    "printProgressBar(0, l, prefix = 'Progress1:', suffix = 'Complete', length = 50)\n",
    "for i, item in enumerate(items):\n",
    "    # Do stuff...\n",
    "    time.sleep(0.1)\n",
    "    # Update Progress Bar\n",
    "    #printProgressBar(i + 1, l, prefix = 'Progress:', suffix = 'Complete', length = 50)\n",
    "    printProgressBar(0, l, prefix = 'Progress2:', suffix = 'Complete', length = 50)\n",
    "    for j, item in enumerate(items):\n",
    "        # Do stuff...\n",
    "        time.sleep(0.1)\n",
    "        # Update Progress Bar\n",
    "        printProgressBar(j + 1, l, prefix = 'Progress2:', suffix = 'Complete', length = 50)\n",
    "    printProgressBar(i + 1, l, prefix = 'Progress1:', suffix = 'Complete', length = 50)"
   ]
  },
  {
   "cell_type": "code",
   "execution_count": 7,
   "metadata": {},
   "outputs": [],
   "source": [
    "\n",
    "def select(X, K, fisher, iterates, lamb=1, backwardSteps=0, nLabeled=0):\n",
    "    '''\n",
    "    K is the number of images to be selected for labelling, \n",
    "    iterates is the fisher for images that are already labelled\n",
    "    '''\n",
    "\n",
    "    numEmbs = len(X)\n",
    "    dim = X.shape[-1]\n",
    "    rank = X.shape[-2]\n",
    "    indsAll = []\n",
    "\n",
    "    currentInv = torch.inverse(lamb * torch.eye(dim).cuda() + iterates.cuda() * nLabeled / (nLabeled + K))\n",
    "    # what is lamb used for here?\n",
    "    #X = X * np.sqrt(K / (nLabeled + K))\n",
    "    fisher = fisher.cuda()\n",
    "    total = 0\n",
    "    rounds = int((backwardSteps + 1) *  K)\n",
    "    printProgressBar(0, rounds, prefix = 'First Loop Progress:', suffix = 'Complete', length = 50)\n",
    "    # forward selection\n",
    "    for i in range(rounds): \n",
    "        #print(\"Start outer loop iteration \", i)\n",
    "        '''\n",
    "        K corresponds to minibatch size, which is called B in the paper.\n",
    "        currently we assume that backwardSteps = 0\n",
    "        '''\n",
    "\n",
    "        # xt_ = X.cuda()\n",
    "        xt_ = X  \n",
    "        '''\n",
    "        in the calculation below, traceEst has X.shape[0] elements.\n",
    "        The calculation done for computing one element of traceEst\n",
    "        has no effect on the calculation done for computing other\n",
    "        elements of traceEst. This suggests that we can compute  \n",
    "        tracEst in chunks, rather than computing all elements in \n",
    "        one go.\n",
    "\n",
    "        traceEst = torch.zeros(X.shape[0])\n",
    "        chunkSize = 100\n",
    "        for c_idx in range(0, X.shape[0], chunkSize):\n",
    "            xt_chunk = xt_[c_idx * chunkSize : (c_idx + 1) * chunkSize]\n",
    "            innerInv = torch.inverse(torch.eye(rank).cpu() + xt_chunk @ currentInv @ xt_chunk.transpose(1, 2)).detach()\n",
    "            traceEst[c_idx * chunkSize : (c_idx + 1) * chunkSize] = torch.diagonal(\n",
    "                xt_chunk @ currentInv @ fisher @ currentInv @ xt_chunk.transpose(1, 2) @ innerInv, \n",
    "                dim1=-2, \n",
    "                dim2=-1\n",
    "            ).sum(-1) \n",
    "        '''\n",
    "\n",
    "\n",
    "        # innerInv = torch.inverse(torch.eye(rank).cuda() + xt_ @ currentInv @ xt_.transpose(1, 2)).detach()\n",
    "        # innerInv[torch.where(torch.isinf(innerInv))] = torch.sign(innerInv[torch.where(torch.isinf(innerInv))]) * np.finfo('float32').max\n",
    "        \n",
    "        \n",
    "        \n",
    "        # traceEst = torch.diagonal(\n",
    "        #     xt_ @ currentInv @ fisher @ currentInv @ xt_.transpose(1, 2) @ innerInv, \n",
    "        #     dim1=-2, \n",
    "        #     dim2=-1\n",
    "        # ).sum(-1)\n",
    "        traceEst = np.zeros(X.shape[0]) #torch.zeros(X.shape[0]).cuda() \n",
    "        chunkSize = 2500\n",
    "        #print(X.shape[0])\n",
    "        \n",
    "        time_for_inner_loop = time.time()\n",
    "        for c_idx in range(0, X.shape[0], chunkSize):\n",
    "            xt_chunk = xt_[c_idx * chunkSize : (c_idx + 1) * chunkSize]\n",
    "            xt_chunk = torch.tensor(xt_chunk).cuda() #.clone().detach()\n",
    "            innerInv = torch.inverse(torch.eye(rank).cuda() + xt_chunk @ currentInv @ xt_chunk.transpose(1, 2))\n",
    "            innerInv[torch.where(torch.isinf(innerInv))] = torch.sign(innerInv[torch.where(torch.isinf(innerInv))]) * np.finfo('float32').max\n",
    "            traceEst[c_idx * chunkSize : (c_idx + 1) * chunkSize] = torch.diagonal(\n",
    "                xt_chunk @ currentInv @ fisher @ currentInv @ xt_chunk.transpose(1, 2) @ innerInv, \n",
    "                dim1=-2, \n",
    "                dim2=-1\n",
    "            ).sum(-1).detach().cpu()\n",
    "        time_for_inner_loop_end = time.time()\n",
    "        #print('inner loop time: ', time_for_inner_loop_end-time_for_inner_loop)\n",
    "        total += (time_for_inner_loop_end-time_for_inner_loop)\n",
    "        '''\n",
    "        Vx^T M^-1 I(θ_L) M^-1 Vx A^-1 formula from page 5 of paper.\n",
    "        currentInv corresponds to M^-1\n",
    "        fisher corresponds to I(θ_L)\n",
    "        xt_ corresponds to Vx^T\n",
    "        innerInv corresponds to A^-1\n",
    "        '''\n",
    "\n",
    "        xt = xt_\n",
    "        del xt, innerInv\n",
    "        #del xt_, innerInv\n",
    "        torch.cuda.empty_cache()\n",
    "        gc.collect()\n",
    "        torch.cuda.empty_cache()\n",
    "        gc.collect()\n",
    "\n",
    "        # traceEst = traceEst.detach().cpu().numpy() # objective value in eq (5) from the paper\n",
    "\n",
    "        dist = traceEst - np.min(traceEst) + 1e-10\n",
    "        dist = dist / np.sum(dist)\n",
    "        sampler = stats.rv_discrete(values=(np.arange(len(dist)), dist))\n",
    "        ind = sampler.rvs(size=1)[0]\n",
    "        for j in np.argsort(dist)[::-1]:\n",
    "            if j not in indsAll:\n",
    "                ind = j\n",
    "                break\n",
    "\n",
    "        indsAll.append(ind)  # adding a new tilde_x to the minibatch being made\n",
    "        #print(i, ind, traceEst[ind], flush=True)\n",
    "       \n",
    "        xt_ = torch.tensor(X[ind]).unsqueeze(0).cuda()\n",
    "        innerInv = torch.inverse(torch.eye(rank).cuda() + xt_ @ currentInv @ xt_.transpose(1, 2)).detach()\n",
    "        currentInv = (currentInv - currentInv @ xt_.transpose(1, 2) @ innerInv @ xt_ @ currentInv).detach()[0]\n",
    "        printProgressBar(i + 1, rounds, prefix = 'First Loop Progress:', suffix = 'Complete', length = 50)\n",
    "\n",
    "    print(\"Average time for inner for loop of select function: \", (total/int((backwardSteps + 1) *  K)))\n",
    "    # backward pruning\n",
    "    second_for_loop_time = time.time()\n",
    "    rounds = len(indsAll) - K\n",
    "    printProgressBar(0, rounds, prefix = 'Second Loop Progress:', suffix = 'Complete', length = 50)\n",
    "    for i in range(rounds):\n",
    "\n",
    "        # select index for removal\n",
    "        xt_ = torch.tensor(X[indsAll]).cuda()\n",
    "        innerInv = torch.inverse(-1 * torch.eye(rank).cuda() + xt_ @ currentInv @ xt_.transpose(1, 2)).detach()\n",
    "        traceEst = torch.diagonal(xt_ @ currentInv @ fisher @ currentInv @ xt_.transpose(1, 2) @ innerInv, dim1=-2, dim2=-1).sum(-1)\n",
    "        delInd = torch.argmin(-1 * traceEst).item()\n",
    "        #print(i, indsAll[delInd], -1 * traceEst[delInd].item(), flush=True)\n",
    "\n",
    "\n",
    "        # compute new inverse\n",
    "        xt_ = torch.tensor(X[indsAll[delInd]]).unsqueeze(0).cuda()\n",
    "        innerInv = torch.inverse(-1 * torch.eye(rank).cuda() + xt_ @ currentInv @ xt_.transpose(1, 2)).detach()\n",
    "        currentInv = (currentInv - currentInv @ xt_.transpose(1, 2) @ innerInv @ xt_ @ currentInv).detach()[0]\n",
    "\n",
    "        del indsAll[delInd]\n",
    "        printProgressBar(i + 1, rounds, prefix = 'Second Loop Progress:', suffix = 'Complete', length = 50)\n",
    "    second_for_loop_time_end = time.time()\n",
    "    print(\"The second for loop in the select function took \", (second_for_loop_time_end-second_for_loop_time))\n",
    "    del xt_, innerInv, currentInv\n",
    "    torch.cuda.empty_cache()\n",
    "    gc.collect()\n",
    "    return indsAll"
   ]
  },
  {
   "cell_type": "code",
   "execution_count": 8,
   "metadata": {},
   "outputs": [],
   "source": [
    "n_pool = len(Y_tr)\n",
    "idxs_lb = np.zeros(n_pool, dtype=bool)\n",
    "idxs_unlabeled = np.arange(n_pool)[~idxs_lb]"
   ]
  },
  {
   "cell_type": "code",
   "execution_count": 9,
   "metadata": {},
   "outputs": [
    {
     "name": "stdout",
     "output_type": "stream",
     "text": [
      "First Loop Progress: |--------------------------------------------------| 0.2% Complete\r"
     ]
    }
   ],
   "source": [
    "chosen = select(xt[idxs_unlabeled], 1000, fisher, iterates, lamb = 1, backwardSteps = 1, nLabeled=np.sum(idxs_lb))"
   ]
  },
  {
   "cell_type": "code",
   "execution_count": null,
   "metadata": {},
   "outputs": [],
   "source": [
    "class DataHandler3(Dataset):\n",
    "    def __init__(self, X, Y, transform= None):\n",
    "        self.X = X\n",
    "        self.Y = Y\n",
    "        self.transform = transform\n",
    "\n",
    "    def __getitem__(self, index):\n",
    "        x, y = self.X[index], self.Y[index]\n",
    "        if self.transform is not None:\n",
    "            x = Image.fromarray(x)\n",
    "            x = self.transform(x)\n",
    "        return x, y, index\n",
    "    def __len__(self):\n",
    "        return len(self.Y)"
   ]
  },
  {
   "cell_type": "code",
   "execution_count": null,
   "metadata": {},
   "outputs": [],
   "source": [
    "def get_handler(name):\n",
    "    if name == 'CIFAR10':\n",
    "        return DataHandler3"
   ]
  },
  {
   "cell_type": "code",
   "execution_count": null,
   "metadata": {},
   "outputs": [],
   "source": [
    "handler = get_handler('CIFAR10')"
   ]
  },
  {
   "cell_type": "code",
   "execution_count": null,
   "metadata": {},
   "outputs": [],
   "source": [
    "print(type(get_handler))"
   ]
  },
  {
   "cell_type": "code",
   "execution_count": null,
   "metadata": {},
   "outputs": [],
   "source": [
    "args={'n_epoch': 3, 'transform': transforms.Compose([ \n",
    "                     transforms.RandomCrop(32, padding=4),\n",
    "                     transforms.RandomHorizontalFlip(),\n",
    "                     transforms.ToTensor(),\n",
    "                     transforms.Normalize((0.4914, 0.4822, 0.4465), (0.2470, 0.2435, 0.2616))\n",
    "                 ]),\n",
    "                 'loader_tr_args':{'batch_size': 128, 'num_workers': 1},\n",
    "                 'loader_te_args':{'batch_size': 1000, 'num_workers': 1}, # change back to 1000\n",
    "                 'optimizer_args':{'lr': 0.05, 'momentum': 0.3},\n",
    "                 'transformTest': transforms.Compose([transforms.ToTensor(), transforms.Normalize((0.4914, 0.4822, 0.4465), (0.2470, 0.2435, 0.2616))])}"
   ]
  },
  {
   "cell_type": "code",
   "execution_count": null,
   "metadata": {},
   "outputs": [],
   "source": [
    "def predict_prob(X, Y, model, exp=True):\n",
    "    # if type(model) == list: model = clf\n",
    "\n",
    "    # loader_te = DataLoader(handler(X, Y, transform=args['transformTest']), shuffle=False, **args['loader_te_args'])\n",
    "    # print(type(loader_te))\n",
    "    loader_te = DataLoader(X_tr, batch_size = 100, shuffle = False)\n",
    "    model = model.eval()\n",
    "    probs = torch.zeros([len(Y), len(np.unique(Y))])\n",
    "    with torch.no_grad():\n",
    "        for idx, x in enumerate(loader_te):\n",
    "            x = Variable(x.cuda())\n",
    "            out, e1 = model(x)\n",
    "            if exp: out = F.softmax(out, dim=1)\n",
    "            probs[idx] = out.cpu().data\n",
    "            # probs = out.cpu().data\n",
    "    \n",
    "    return probs"
   ]
  },
  {
   "cell_type": "code",
   "execution_count": null,
   "metadata": {},
   "outputs": [],
   "source": [
    "innerInv = torch.tensor(())"
   ]
  },
  {
   "cell_type": "code",
   "execution_count": null,
   "metadata": {},
   "outputs": [],
   "source": [
    "X_tr[:100].shape[0]"
   ]
  },
  {
   "cell_type": "code",
   "execution_count": null,
   "metadata": {},
   "outputs": [],
   "source": [
    "loader_te = DataLoader(X_tr, batch_size = 100, shuffle = False)\n",
    "for idx,x in enumerate(loader_te):\n",
    "    print(x.shape)"
   ]
  },
  {
   "cell_type": "code",
   "execution_count": null,
   "metadata": {},
   "outputs": [],
   "source": [
    "model = resnet.ResNet18()"
   ]
  },
  {
   "cell_type": "code",
   "execution_count": null,
   "metadata": {},
   "outputs": [],
   "source": [
    "phat = predict_prob(X_tr[idxs_unlabeled], Y_tr[idxs_unlabeled],model)"
   ]
  },
  {
   "cell_type": "code",
   "execution_count": null,
   "metadata": {},
   "outputs": [],
   "source": [
    "print('all probs: ' + \n",
    "                str(str(torch.mean(torch.max(phat, 1)[0]).item())) + ' ' + \n",
    "                str(str(torch.mean(torch.min(phat, 1)[0]).item())) + ' ' + \n",
    "                str(str(torch.mean(torch.std(phat,1)).item())), flush=True)"
   ]
  },
  {
   "cell_type": "code",
   "execution_count": 1,
   "metadata": {},
   "outputs": [
    {
     "name": "stdout",
     "output_type": "stream",
     "text": [
      "{'FISH': [0.0999], 'BAIT': [0.1002, 0.1005]}\n"
     ]
    }
   ],
   "source": [
    "import pickle\n",
    "savefile = open(\"defaultsavefilename.p\", \"br\")\n",
    "save = pickle.load(savefile)\n",
    "acc_dict = save\n",
    "print(acc_dict)"
   ]
  }
 ],
 "metadata": {
  "kernelspec": {
   "display_name": "pyt",
   "language": "python",
   "name": "python3"
  },
  "language_info": {
   "codemirror_mode": {
    "name": "ipython",
    "version": 3
   },
   "file_extension": ".py",
   "mimetype": "text/x-python",
   "name": "python",
   "nbconvert_exporter": "python",
   "pygments_lexer": "ipython3",
   "version": "3.8.15"
  },
  "orig_nbformat": 4,
  "vscode": {
   "interpreter": {
    "hash": "4cafaace53dbfa2f2f80725cf8b8a707efc1de97ef1c6af3883bc118682f6610"
   }
  }
 },
 "nbformat": 4,
 "nbformat_minor": 2
}
