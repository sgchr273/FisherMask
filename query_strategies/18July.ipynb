{
 "cells": [
  {
   "cell_type": "code",
   "execution_count": 2,
   "metadata": {},
   "outputs": [],
   "source": [
    "import numpy as np\n",
    "import torch"
   ]
  },
  {
   "cell_type": "code",
   "execution_count": null,
   "metadata": {},
   "outputs": [],
   "source": [
    "def unbalanced_dataset(X_tr, Y_tr):\n",
    "   \n",
    "    masks = [np.zeros(len(Y_tr), dtype = 'int') for i in range(10)]\n",
    "    for i in range(len(Y_tr)):\n",
    "        masks[Y_tr[i].item()][i] = 1\n",
    "\n",
    "    # creating new_Xtr\n",
    "    new_Xtr = []\n",
    "    # for i in masks:\n",
    "    var = np.random.choice(np.arange(len(X_tr), dtype=int)[masks[0] == 1], 2500, replace=False)\n",
    "    new_Xtr.append(X_tr[var])\n",
    "\n",
    "    var = np.random.choice(np.arange(len(X_tr), dtype=int)[masks[1] == 1], 5000, replace=False)\n",
    "    new_Xtr.append(X_tr[var])\n",
    "\n",
    "    new_Xtr = np.array(new_Xtr).reshape(7500, 32, 32, 3)\n",
    "\n",
    "    # creating new_Ytr\n",
    "    new_Ytr = np.zeros(7500, dtype = 'int')\n",
    "    new_Ytr[2500:]=1\n",
    "    return new_Xtr, torch.from_numpy(new_Ytr)"
   ]
  },
  {
   "cell_type": "code",
   "execution_count": 3,
   "metadata": {},
   "outputs": [],
   "source": [
    "a = np.zeros(100)\n",
    "a[:10] = 1"
   ]
  }
 ],
 "metadata": {
  "kernelspec": {
   "display_name": "pyt",
   "language": "python",
   "name": "python3"
  },
  "language_info": {
   "codemirror_mode": {
    "name": "ipython",
    "version": 3
   },
   "file_extension": ".py",
   "mimetype": "text/x-python",
   "name": "python",
   "nbconvert_exporter": "python",
   "pygments_lexer": "ipython3",
   "version": "3.8.15"
  },
  "orig_nbformat": 4
 },
 "nbformat": 4,
 "nbformat_minor": 2
}
