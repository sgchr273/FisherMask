{
 "cells": [
  {
   "cell_type": "code",
   "execution_count": 5,
   "metadata": {},
   "outputs": [],
   "source": [
    "import torch\n",
    "import time\n",
    "import gc\n",
    "import numpy as np\n",
    "from scipy import stats\n",
    "from torch.multiprocessing import Pool, Queue, Manager, Array\n",
    "from torchvision import datasets\n",
    "from torch.utils.data import Dataset"
   ]
  },
  {
   "cell_type": "code",
   "execution_count": 2,
   "metadata": {},
   "outputs": [],
   "source": [
    "import trace_for_chun"
   ]
  },
  {
   "cell_type": "code",
   "execution_count": 37,
   "metadata": {},
   "outputs": [
    {
     "name": "stdout",
     "output_type": "stream",
     "text": [
      "0.015891313552856445\n"
     ]
    }
   ],
   "source": [
    "sta = time.time()\n",
    "# innerInv = torch.inverse(torch.eye(rank).cuda(gpu_id) + xt_chunk @ currentInv @ xt_chunk.transpose(1, 2))\n",
    "innerInv1 = torch.eye(10).cuda()\n",
    "st1 =time.time()\n",
    "print(st1 - sta)"
   ]
  },
  {
   "cell_type": "code",
   "execution_count": 39,
   "metadata": {},
   "outputs": [
    {
     "name": "stdout",
     "output_type": "stream",
     "text": [
      "Collecting watermark\n",
      "  Downloading watermark-2.3.1-py2.py3-none-any.whl (7.2 kB)\n",
      "Requirement already satisfied: ipython in /usr/local/home/sgchr/.local/lib/python3.8/site-packages (from watermark) (8.6.0)\n",
      "Requirement already satisfied: pygments>=2.4.0 in /usr/local/home/sgchr/.local/lib/python3.8/site-packages (from ipython->watermark) (2.13.0)\n",
      "Requirement already satisfied: traitlets>=5 in /usr/local/home/sgchr/.local/lib/python3.8/site-packages (from ipython->watermark) (5.5.0)\n",
      "Requirement already satisfied: decorator in /usr/local/home/sgchr/.local/lib/python3.8/site-packages (from ipython->watermark) (5.1.1)\n",
      "Requirement already satisfied: jedi>=0.16 in /usr/local/home/sgchr/.local/lib/python3.8/site-packages (from ipython->watermark) (0.18.1)\n",
      "Requirement already satisfied: backcall in /usr/local/home/sgchr/.local/lib/python3.8/site-packages (from ipython->watermark) (0.2.0)\n",
      "Requirement already satisfied: pickleshare in /usr/local/home/sgchr/.local/lib/python3.8/site-packages (from ipython->watermark) (0.7.5)\n",
      "Requirement already satisfied: stack-data in /usr/local/home/sgchr/.local/lib/python3.8/site-packages (from ipython->watermark) (0.6.0)\n",
      "Requirement already satisfied: matplotlib-inline in /usr/local/home/sgchr/.local/lib/python3.8/site-packages (from ipython->watermark) (0.1.6)\n",
      "Requirement already satisfied: prompt-toolkit<3.1.0,>3.0.1 in /usr/local/home/sgchr/.local/lib/python3.8/site-packages (from ipython->watermark) (3.0.31)\n",
      "Requirement already satisfied: pexpect>4.3 in /usr/local/home/sgchr/.local/lib/python3.8/site-packages (from ipython->watermark) (4.8.0)\n",
      "Requirement already satisfied: parso<0.9.0,>=0.8.0 in /usr/local/home/sgchr/.local/lib/python3.8/site-packages (from jedi>=0.16->ipython->watermark) (0.8.3)\n",
      "Requirement already satisfied: ptyprocess>=0.5 in /usr/local/home/sgchr/.local/lib/python3.8/site-packages (from pexpect>4.3->ipython->watermark) (0.7.0)\n",
      "Requirement already satisfied: wcwidth in /usr/local/home/sgchr/.local/lib/python3.8/site-packages (from prompt-toolkit<3.1.0,>3.0.1->ipython->watermark) (0.2.5)\n",
      "Requirement already satisfied: pure-eval in /usr/local/home/sgchr/.local/lib/python3.8/site-packages (from stack-data->ipython->watermark) (0.2.2)\n",
      "Requirement already satisfied: asttokens>=2.1.0 in /usr/local/home/sgchr/.local/lib/python3.8/site-packages (from stack-data->ipython->watermark) (2.1.0)\n",
      "Requirement already satisfied: executing>=1.2.0 in /usr/local/home/sgchr/.local/lib/python3.8/site-packages (from stack-data->ipython->watermark) (1.2.0)\n",
      "Requirement already satisfied: six in /usr/local/home/sgchr/.local/lib/python3.8/site-packages (from asttokens>=2.1.0->stack-data->ipython->watermark) (1.16.0)\n",
      "Installing collected packages: watermark\n",
      "Successfully installed watermark-2.3.1\n"
     ]
    }
   ],
   "source": [
    "!pip install watermark"
   ]
  },
  {
   "cell_type": "code",
   "execution_count": null,
   "metadata": {},
   "outputs": [],
   "source": []
  }
 ],
 "metadata": {
  "kernelspec": {
   "display_name": "pyt",
   "language": "python",
   "name": "python3"
  },
  "language_info": {
   "codemirror_mode": {
    "name": "ipython",
    "version": 3
   },
   "file_extension": ".py",
   "mimetype": "text/x-python",
   "name": "python",
   "nbconvert_exporter": "python",
   "pygments_lexer": "ipython3",
   "version": "3.8.15"
  },
  "orig_nbformat": 4
 },
 "nbformat": 4,
 "nbformat_minor": 2
}
