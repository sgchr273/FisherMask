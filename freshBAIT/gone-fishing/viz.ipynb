{
 "cells": [
  {
   "attachments": {},
   "cell_type": "markdown",
   "metadata": {},
   "source": [
    "# class composition for fresh copy of BAIT"
   ]
  },
  {
   "cell_type": "code",
   "execution_count": 1,
   "metadata": {},
   "outputs": [],
   "source": [
    "import os\n",
    "os.chdir('/usr/local/home/sgchr/Documents/active_nn/freshBAIT')"
   ]
  },
  {
   "cell_type": "code",
   "execution_count": 2,
   "metadata": {},
   "outputs": [],
   "source": [
    "import pickle\n",
    "import torch\n",
    "import resnet\n",
    "import numpy as np\n",
    "\n",
    "filename = \"freshbait\""
   ]
  },
  {
   "cell_type": "code",
   "execution_count": 3,
   "metadata": {},
   "outputs": [
    {
     "data": {
      "text/plain": [
       "20"
      ]
     },
     "execution_count": 3,
     "metadata": {},
     "output_type": "execute_result"
    }
   ],
   "source": [
    "queried_idxs = pickle.load(open(\"Save/Queried_idxs/\"  + \"queried_idxs_\" + filename + \".p\", \"rb\"))\n",
    "len(queried_idxs)"
   ]
  },
  {
   "cell_type": "code",
   "execution_count": 4,
   "metadata": {},
   "outputs": [],
   "source": [
    "dataset = pickle.load(open(\"Save/Queried_idxs/\" + \"dataset_\" + filename + \".p\", \"rb\"))"
   ]
  },
  {
   "cell_type": "code",
   "execution_count": 5,
   "metadata": {},
   "outputs": [],
   "source": [
    "Y_tr = dataset['Y_train']"
   ]
  },
  {
   "cell_type": "code",
   "execution_count": 6,
   "metadata": {},
   "outputs": [
    {
     "data": {
      "text/plain": [
       "[1, 1, 8, 7, 9, 6, 5, 7, 5, 1]"
      ]
     },
     "execution_count": 6,
     "metadata": {},
     "output_type": "execute_result"
    }
   ],
   "source": [
    "[Y_tr[idx].item() for idx in queried_idxs[0][:10]]"
   ]
  },
  {
   "cell_type": "code",
   "execution_count": 7,
   "metadata": {},
   "outputs": [],
   "source": [
    "class_composition = [[Y_tr[idx].item() for idx in rd_idx] for rd_idx in queried_idxs]"
   ]
  },
  {
   "cell_type": "code",
   "execution_count": 8,
   "metadata": {},
   "outputs": [
    {
     "name": "stdout",
     "output_type": "stream",
     "text": [
      "[152, 110, 125, 122, 124, 117, 113, 111, 119, 107] 1200\n",
      "[125, 88, 141, 155, 141, 135, 102, 124, 111, 78] 1200\n",
      "[103, 109, 149, 150, 138, 105, 99, 132, 116, 99] 1200\n",
      "[130, 116, 110, 115, 138, 115, 122, 111, 99, 144] 1200\n",
      "[119, 105, 167, 135, 132, 131, 127, 104, 69, 111] 1200\n",
      "[117, 85, 131, 153, 144, 146, 118, 98, 92, 116] 1200\n",
      "[96, 85, 152, 187, 135, 126, 117, 98, 102, 102] 1200\n",
      "[85, 65, 142, 181, 132, 164, 155, 91, 126, 59] 1200\n",
      "[128, 79, 139, 153, 148, 133, 143, 115, 92, 70] 1200\n",
      "[133, 70, 133, 139, 153, 152, 102, 109, 89, 120] 1200\n",
      "[134, 99, 122, 189, 123, 122, 113, 158, 57, 83] 1200\n",
      "[101, 127, 124, 213, 110, 186, 89, 107, 66, 77] 1200\n",
      "[117, 102, 146, 135, 113, 215, 78, 111, 97, 86] 1200\n",
      "[103, 79, 116, 138, 207, 112, 99, 124, 100, 122] 1200\n",
      "[185, 84, 95, 75, 96, 104, 115, 124, 153, 169] 1200\n",
      "[121, 126, 162, 71, 120, 104, 167, 63, 110, 156] 1200\n",
      "[156, 154, 77, 30, 50, 73, 184, 164, 154, 158] 1200\n",
      "[143, 202, 84, 26, 75, 76, 123, 120, 210, 141] 1200\n",
      "[62, 207, 61, 13, 55, 51, 164, 226, 198, 163] 1200\n",
      "[91, 299, 32, 4, 59, 30, 79, 110, 253, 243] 1200\n"
     ]
    }
   ],
   "source": [
    "for rd in range(20):\n",
    "    class_rd = [sum(np.array(class_composition[rd]) == cl) for cl in range(10)]\n",
    "    print(class_rd, sum(class_rd))"
   ]
  },
  {
   "cell_type": "code",
   "execution_count": 9,
   "metadata": {},
   "outputs": [
    {
     "data": {
      "image/png": "[encoded data removed]",
      "text/plain": [
       "<Figure size 640x480 with 1 Axes>"
      ]
     },
     "metadata": {},
     "output_type": "display_data"
    }
   ],
   "source": [
    "import matplotlib.pyplot as plt\n",
    "for rd in range(13, 14):\n",
    "    plt.plot([sum(np.array(class_composition[rd]) == cl) for cl in range(10)], 'o')\n",
    "plt.show()"
   ]
  },
  {
   "attachments": {},
   "cell_type": "markdown",
   "metadata": {},
   "source": [
    "Code parallalism using numba"
   ]
  },
  {
   "cell_type": "code",
   "execution_count": 10,
   "metadata": {},
   "outputs": [],
   "source": [
    "%matplotlib inline"
   ]
  },
  {
   "cell_type": "code",
   "execution_count": 11,
   "metadata": {},
   "outputs": [],
   "source": [
    "from numba import njit"
   ]
  },
  {
   "cell_type": "code",
   "execution_count": 25,
   "metadata": {},
   "outputs": [],
   "source": [
    "def friction_fn(v, vt):\n",
    "    if v > vt:\n",
    "        return - v * 3\n",
    "    else:\n",
    "        return - vt * 3 * np.sign(v)\n",
    "\n",
    "def simulate_spring_mass_funky_damper(x0, T=10, dt=0.0001, vt=1.0):\n",
    "    times = np.arange(0, T, dt)\n",
    "    positions = np.zeros_like(times)\n",
    "    \n",
    "    v = 0\n",
    "    a = 0\n",
    "    x = x0\n",
    "    positions[0] = x0/x0\n",
    "    \n",
    "    for ii in range(len(times)):\n",
    "        if ii == 0:\n",
    "            continue\n",
    "        t = times[ii]\n",
    "        a = friction_fn(v, vt) - 100*x\n",
    "        v = v + a*dt\n",
    "        x = x + v*dt\n",
    "        positions[ii] = x/x0\n",
    "    return times, positions"
   ]
  },
  {
   "cell_type": "code",
   "execution_count": 32,
   "metadata": {},
   "outputs": [
    {
     "name": "stdout",
     "output_type": "stream",
     "text": [
      "CPU times: user 141 ms, sys: 0 ns, total: 141 ms\n",
      "Wall time: 139 ms\n"
     ]
    }
   ],
   "source": [
    "%time _ = simulate_spring_mass_funky_damper(0.1)"
   ]
  },
  {
   "cell_type": "code",
   "execution_count": 33,
   "metadata": {},
   "outputs": [],
   "source": [
    "@njit  #(nogil=True)\n",
    "def friction_fn(v, vt):\n",
    "    if v > vt:\n",
    "        return - v * 3\n",
    "    else:\n",
    "        return - vt * 3 * np.sign(v)\n",
    "\n",
    "@njit  #(nogil=True)\n",
    "def simulate_spring_mass_funky_damper(x0, T=10, dt=0.0001, vt=1.0):\n",
    "    times = np.arange(0, T, dt)\n",
    "    positions = np.zeros_like(times)\n",
    "    \n",
    "    v = 0\n",
    "    a = 0\n",
    "    x = x0\n",
    "    positions[0] = x0/x0\n",
    "    \n",
    "    for ii in range(len(times)):\n",
    "        if ii == 0:\n",
    "            continue\n",
    "        t = times[ii]\n",
    "        a = friction_fn(v, vt) - 100*x\n",
    "        v = v + a*dt\n",
    "        x = x + v*dt\n",
    "        positions[ii] = x/x0\n",
    "    return times, positions\n"
   ]
  },
  {
   "cell_type": "code",
   "execution_count": 42,
   "metadata": {},
   "outputs": [
    {
     "name": "stdout",
     "output_type": "stream",
     "text": [
      "CPU times: user 3.21 ms, sys: 0 ns, total: 3.21 ms\n",
      "Wall time: 3.07 ms\n"
     ]
    }
   ],
   "source": [
    "%time _ = simulate_spring_mass_funky_damper(0.1)"
   ]
  }
 ],
 "metadata": {
  "kernelspec": {
   "display_name": "pyt",
   "language": "python",
   "name": "python3"
  },
  "language_info": {
   "codemirror_mode": {
    "name": "ipython",
    "version": 3
   },
   "file_extension": ".py",
   "mimetype": "text/x-python",
   "name": "python",
   "nbconvert_exporter": "python",
   "pygments_lexer": "ipython3",
   "version": "3.8.15"
  },
  "orig_nbformat": 4
 },
 "nbformat": 4,
 "nbformat_minor": 2
}
